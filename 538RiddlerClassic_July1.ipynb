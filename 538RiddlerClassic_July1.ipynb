{
 "cells": [
  {
   "cell_type": "code",
   "execution_count": 1,
   "metadata": {
    "collapsed": true,
    "deletable": true,
    "editable": true
   },
   "outputs": [],
   "source": [
    "import pylab as py\n",
    "import random\n",
    "%matplotlib inline"
   ]
  },
  {
   "cell_type": "code",
   "execution_count": 2,
   "metadata": {
    "collapsed": false,
    "deletable": true,
    "editable": true
   },
   "outputs": [],
   "source": [
    "class Simulation():\n",
    "    def __init__(self,houses):\n",
    "        self.houses = 1000\n",
    "        self.runs = []\n",
    "    def simulateSingle(self):\n",
    "        wealth = [100] * self.houses\n",
    "        for robber in range(self.houses):\n",
    "            robbed = random.randint(0,self.houses-1)\n",
    "            while robbed==robber:\n",
    "                robbed = random.randint(0,self.houses-1)\n",
    "            wealth[robber] = wealth[robber] + wealth[robbed]\n",
    "            wealth[robbed] = 0\n",
    "        self.runs.append(wealth)\n",
    "    def summarize(self):\n",
    "        return sum(py.array(self.runs)) * 1. / len(self.runs)\n",
    "    def getHistogram(self):\n",
    "        vec = py.array(self.runs)\n",
    "        maximum = max(vec.flatten())\n",
    "        bins = int(maximum / 100) + 1\n",
    "        histogram = py.zeros((self.houses,bins))\n",
    "        for house in range(self.houses):\n",
    "            for result in vec.T[house]:\n",
    "                bn = int(result/100)\n",
    "                histogram[house,bn] += 1\n",
    "        return histogram"
   ]
  },
  {
   "cell_type": "code",
   "execution_count": 3,
   "metadata": {
    "collapsed": false,
    "deletable": true,
    "editable": true
   },
   "outputs": [],
   "source": [
    "c = Simulation(1000)"
   ]
  },
  {
   "cell_type": "code",
   "execution_count": 4,
   "metadata": {
    "collapsed": false,
    "deletable": true,
    "editable": true
   },
   "outputs": [],
   "source": [
    "[c.simulateSingle() for x in range(20000)];"
   ]
  },
  {
   "cell_type": "code",
   "execution_count": 5,
   "metadata": {
    "collapsed": false,
    "deletable": true,
    "editable": true
   },
   "outputs": [
    {
     "data": {
      "text/plain": [
       "[<matplotlib.axis.XTick at 0x10cfad210>,\n",
       " <matplotlib.axis.XTick at 0x10cf95ed0>,\n",
       " <matplotlib.axis.XTick at 0x10d033650>,\n",
       " <matplotlib.axis.XTick at 0x10d033c50>,\n",
       " <matplotlib.axis.XTick at 0x10cfc8ad0>]"
      ]
     },
     "execution_count": 5,
     "metadata": {},
     "output_type": "execute_result"
    },
    {
     "data": {
      "image/png": "[encoded data removed]",
      "text/plain": [
       "<matplotlib.figure.Figure at 0x10cf84550>"
      ]
     },
     "metadata": {},
     "output_type": "display_data"
    }
   ],
   "source": [
    "fig,ax = py.subplots()\n",
    "ax.set_title('Based on {} simulations'.format(len(c.runs)))\n",
    "ydata = c.summarize()\n",
    "xdata = py.arange(len(ydata)) + 1\n",
    "ax.plot(xdata,ydata)\n",
    "ax.set_xlabel('Position')\n",
    "ax.set_ylabel('Average wealth at the end')\n",
    "ax.set_ylim(0,ax.get_ylim()[1])\n",
    "ax.plot([xdata[x] for x in [0,-1]],[100]*2,'y--')\n",
    "ax.set_xticks([0,250,500,750,1000])"
   ]
  },
  {
   "cell_type": "code",
   "execution_count": 6,
   "metadata": {
    "collapsed": false,
    "deletable": true,
    "editable": true
   },
   "outputs": [
    {
     "data": {
      "text/plain": [
       "137.84"
      ]
     },
     "execution_count": 6,
     "metadata": {},
     "output_type": "execute_result"
    }
   ],
   "source": [
    "c.summarize()[-1]"
   ]
  }
 ],
 "metadata": {
  "kernelspec": {
   "display_name": "Python 2",
   "language": "python",
   "name": "python2"
  },
  "language_info": {
   "codemirror_mode": {
    "name": "ipython",
    "version": 2
   },
   "file_extension": ".py",
   "mimetype": "text/x-python",
   "name": "python",
   "nbconvert_exporter": "python",
   "pygments_lexer": "ipython2",
   "version": "2.7.10"
  }
 },
 "nbformat": 4,
 "nbformat_minor": 2
}
