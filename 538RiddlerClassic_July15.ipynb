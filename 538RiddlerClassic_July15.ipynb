{
 "cells": [
  {
   "cell_type": "markdown",
   "metadata": {
    "deletable": true,
    "editable": true
   },
   "source": [
    "# Riddler Classic, July 15\n",
    "The text of the riddler is \n",
    "\n",
    "Congratulations! The Acme Axegrinders, which you own, are the regular season champions of the National Squishyball League (NSL). Your team will now play a championship series against the Boondocks Barbarians, which had the second-best regular season record. You feel good about Acme’s chances in the series because Acme won exactly 60 percent of the hundreds of games it played against Boondocks this season. (The NSL has an incredibly long regular season.) The NSL has two special rules for the playoffs:\n",
    "\n",
    "The owner of the top-seeded team (i.e., you) gets to select the length of the championship series in advance of the first game, so you could decide to play a single game, a best two out of three series, a three out of five series, etc., all the way up to a 50 out of 99 series.\n",
    "The owner of the winning team gets \\$1 million minus \\$10,000 for each of the victories required to win the series, regardless of how many games the series lasts in total. Thus, if the top-seeded team’s owner selects a single-game championship, the winning owner will collect \\$990,000. If he or she selects a 4 out of 7 series, the winning team’s owner will collect $960,000. The owner of the losing team gets nothing.\n",
    "Since Acme has a 60 percent chance of winning any individual game against Boondocks, Rule 1 encourages you to opt for a very long series to improve Acme’s chances of winning the series. But Rule 2 means that a long series will mean less winnings for you if Acme does take the series.\n",
    "\n",
    "How long a series should you select in order to maximize your expected winnings? And how much money do you expect to win?"
   ]
  },
  {
   "cell_type": "markdown",
   "metadata": {
    "deletable": true,
    "editable": true
   },
   "source": [
    "# Some comments\n",
    "There are two important parameters in this problem, which is the probability of the favorite team winning each game and the ratio of the winning prize (I'll call this $M$) to the penalty caused by each additional game (I'll call this $G$). Let $P_c$ be the probability of the favorite team winning a series when it needs to win $c$ games out of $2c-1$ games, and $s$ be the probability of the favorite team winning each game. The expected earnings for the favorite team in a series is\n",
    "$$\n",
    "\\$_c = P_c \\left( M - G c \\right)\n",
    "$$\n",
    "This function is in general increasing for small values of $c$ until it reaches a maximum and decreases. To find this maximum, we must find the smallest $c$ such that $\\$_{c+1} \\leq \\$_c$, which means \n",
    "$$\n",
    "\\left(P_{c+1}-P_c\\right) \\left(M-Gc-G\\right) - GP_{c} \\leq 0\n",
    "$$\n"
   ]
  },
  {
   "cell_type": "markdown",
   "metadata": {
    "deletable": true,
    "editable": true
   },
   "source": [
    "## Analytical methods\n",
    "Let $P_c$ be the probability of the favorite team winning a series when it needs to win $c$ games out of $2c-1$ games. With $s$ being the probability of the favorite team winning each game, then this probability is \n",
    "$$\n",
    "P_c = \\sum_{n=0}^{c-1} \\left(\\begin{array}{c} 2c-1 \\\\ n\\end{array}\\right) s^{2c-1-n}\\left(1-s\\right)^n\n",
    "$$\n",
    "Here, the index $n$ in the sum corresponds to the number of games won by the underdog.\n",
    "With some calculations, we can reach also a relation between $P_{c+1}$ and $P_c$,\n",
    "$$\n",
    "P_{c+1} - P_c = \\left(2s-1\\right)\\left(\\begin{array}{c} 2c-1 \\\\ c-1\\end{array}\\right) \\left(s-s^2\\right)^c\n",
    "$$\n",
    "We end up with the equation\n",
    "$$\n",
    "P_c \\geq \\left(2s-1\\right)\\left(\\begin{array}{c} 2c-1 \\\\ c-1\\end{array}\\right) \\left(s-s^2\\right)^c \\left(\\frac{M}{G}-c-1\\right)\n",
    "$$\n"
   ]
  },
  {
   "cell_type": "markdown",
   "metadata": {
    "deletable": true,
    "editable": true
   },
   "source": [
    "## Numerical methods\n",
    "Below we add some numerical functions that calculate the winning probability in a series that requires $c$ wins, the expected payoff and maximizes the expected payoff."
   ]
  },
  {
   "cell_type": "code",
   "execution_count": 131,
   "metadata": {
    "collapsed": false,
    "deletable": true,
    "editable": true
   },
   "outputs": [],
   "source": [
    "import pylab as py\n",
    "from scipy.misc import comb\n",
    "def WinningProbability(c,s):\n",
    "    winning = s;\n",
    "    auxA = 2*s - 1\n",
    "    auxB0 = s-s**2\n",
    "    auxB = auxB0 + 0.0\n",
    "    for cc in range(1,c):\n",
    "        winning += comb(2*cc-1,cc-1) * auxA * auxB\n",
    "        auxB *= auxB0\n",
    "    return winning\n",
    "def getPayoff(c,s,ratioMG):\n",
    "    winning = WinningProbability(c,s)\n",
    "    return winning * (ratioMG-c)\n",
    "def FindMaximum(s,ratioMG):\n",
    "    c=1\n",
    "    payoff = WinningProbability(c,s) * (ratioMG  - c)\n",
    "    while c<50:\n",
    "        nextPayoff = WinningProbability(c+1,s) * (ratioMG  - c - 1)\n",
    "        if nextPayoff <= payoff:\n",
    "            return c\n",
    "        else:\n",
    "            payoff = nextPayoff + 0.0\n",
    "        c+=1\n",
    "    return c"
   ]
  },
  {
   "cell_type": "markdown",
   "metadata": {},
   "source": [
    "The maximization under the proposed parameters ($s = 0.6$ and $\\frac{M}{G} = 100$) is"
   ]
  },
  {
   "cell_type": "code",
   "execution_count": 133,
   "metadata": {
    "collapsed": false
   },
   "outputs": [
    {
     "name": "stdout",
     "output_type": "stream",
     "text": [
      "The optimal series is a best 13-of-25.\n"
     ]
    }
   ],
   "source": [
    "c = FindMaximum(0.6,100)\n",
    "print 'The optimal series is a best {:d}-of-{:d}.'.format(c,2*c-1)"
   ]
  },
  {
   "cell_type": "markdown",
   "metadata": {},
   "source": [
    "We can also plot the expected payoff as a function of the number of required games to win."
   ]
  },
  {
   "cell_type": "code",
   "execution_count": 140,
   "metadata": {
    "collapsed": false
   },
   "outputs": [
    {
     "data": {
      "text/plain": [
       "<matplotlib.text.Text at 0x10f6ce990>"
      ]
     },
     "execution_count": 140,
     "metadata": {},
     "output_type": "execute_result"
    },
    {
     "data": {
      "image/png": "[encoded data removed]",
      "text/plain": [
       "<matplotlib.figure.Figure at 0x10f6c3b50>"
      ]
     },
     "metadata": {},
     "output_type": "display_data"
    }
   ],
   "source": [
    "%matplotlib inline\n",
    "fig,ax = py.subplots()\n",
    "xplot = range(1,51)\n",
    "yplot = map(lambda x:getPayoff(x,0.6,100),xplot)\n",
    "ax.plot(xplot,10*py.array(yplot),'b.-')\n",
    "ax.set_xlabel('Required games to win')\n",
    "ax.set_ylabel('Expected payoff (in thousands of dollars)')"
   ]
  },
  {
   "cell_type": "code",
   "execution_count": 124,
   "metadata": {
    "collapsed": false,
    "deletable": true,
    "editable": true
   },
   "outputs": [],
   "source": [
    "#ratio = 10**(py.linspace(1,3,20,endpoint=False))\n",
    "ratio = py.linspace(0,1000,20,endpoint=False)\n",
    "ss = py.linspace(0.5,1.0,51)[:]\n",
    "m = py.array([[FindMaximum(x,y) for x in ss] for y in ratio])"
   ]
  },
  {
   "cell_type": "code",
   "execution_count": 129,
   "metadata": {
    "collapsed": false
   },
   "outputs": [
    {
     "data": {
      "text/plain": [
       "[<matplotlib.text.Text at 0x10f197e90>,\n",
       " <matplotlib.text.Text at 0x10f1f8190>,\n",
       " <matplotlib.text.Text at 0x10f2d8fd0>,\n",
       " <matplotlib.text.Text at 0x10f2e2510>,\n",
       " <matplotlib.text.Text at 0x10f177bd0>]"
      ]
     },
     "execution_count": 129,
     "metadata": {},
     "output_type": "execute_result"
    },
    {
     "data": {
      "image/png": "[encoded data removed]",
      "text/plain": [
       "<matplotlib.figure.Figure at 0x10efd2fd0>"
      ]
     },
     "metadata": {},
     "output_type": "display_data"
    }
   ],
   "source": [
    "%matplotlib inline\n",
    "fig,ax = py.subplots()\n",
    "plot = ax.matshow(m,cmap='jet')\n",
    "py.colorbar(plot)\n",
    "ax.set_xticklabels([str(ss[int(x)]) for x in ax.get_xticks()[:-1]])\n",
    "ax.set_yticklabels(['{:.2f}'.format(ratio[int(x)]) for x in ax.get_yticks()[:-1]])"
   ]
  },
  {
   "cell_type": "code",
   "execution_count": 91,
   "metadata": {
    "collapsed": false
   },
   "outputs": [
    {
     "data": {
      "text/plain": [
       "-1"
      ]
     },
     "execution_count": 91,
     "metadata": {},
     "output_type": "execute_result"
    }
   ],
   "source": [
    "min(m.flatten())"
   ]
  },
  {
   "cell_type": "code",
   "execution_count": 44,
   "metadata": {
    "collapsed": false
   },
   "outputs": [
    {
     "data": {
      "text/plain": [
       "[<matplotlib.lines.Line2D at 0x10cdb4f90>]"
      ]
     },
     "execution_count": 44,
     "metadata": {},
     "output_type": "execute_result"
    },
    {
     "data": {
      "image/png": "[encoded data removed]",
      "text/plain": [
       "<matplotlib.figure.Figure at 0x10cc6eb90>"
      ]
     },
     "metadata": {},
     "output_type": "display_data"
    }
   ],
   "source": [
    "%matplotlib inline\n",
    "fig,ax = py.subplots()\n",
    "xplot = range(1,51)\n",
    "yplot = map(lambda x:WinningProbability(x,0.6),xplot)\n",
    "ax.plot(xplot,yplot,'b.-')"
   ]
  },
  {
   "cell_type": "code",
   "execution_count": 51,
   "metadata": {
    "collapsed": false
   },
   "outputs": [
    {
     "data": {
      "text/plain": [
       "(450000, 1000000)"
      ]
     },
     "execution_count": 51,
     "metadata": {},
     "output_type": "execute_result"
    },
    {
     "data": {
      "image/png": "[encoded data removed]",
      "text/plain": [
       "<matplotlib.figure.Figure at 0x10d35d350>"
      ]
     },
     "metadata": {},
     "output_type": "display_data"
    }
   ],
   "source": [
    "%matplotlib inline\n",
    "fig,ax = py.subplots()\n",
    "xplot = range(1,51)\n",
    "yplot = map(lambda x:getPayoff(x,0.6,100),xplot)\n",
    "ax.plot(xplot,10000*py.array(yplot),'b.-')\n",
    "ax.set_ylim(450000,1000000)"
   ]
  },
  {
   "cell_type": "code",
   "execution_count": 62,
   "metadata": {
    "collapsed": false
   },
   "outputs": [
    {
     "data": {
      "text/plain": [
       "13"
      ]
     },
     "execution_count": 62,
     "metadata": {},
     "output_type": "execute_result"
    }
   ],
   "source": [
    "FindMaximum(0.6,100)"
   ]
  },
  {
   "cell_type": "code",
   "execution_count": 63,
   "metadata": {
    "collapsed": false
   },
   "outputs": [
    {
     "data": {
      "text/plain": [
       "73.622204099108615"
      ]
     },
     "execution_count": 63,
     "metadata": {},
     "output_type": "execute_result"
    }
   ],
   "source": [
    "getPayoff(13,0.6,100)"
   ]
  },
  {
   "cell_type": "code",
   "execution_count": 59,
   "metadata": {
    "collapsed": false
   },
   "outputs": [
    {
     "data": {
      "text/plain": [
       "73.622204099108615"
      ]
     },
     "execution_count": 59,
     "metadata": {},
     "output_type": "execute_result"
    }
   ],
   "source": [
    "max(yplot)"
   ]
  },
  {
   "cell_type": "code",
   "execution_count": null,
   "metadata": {
    "collapsed": true
   },
   "outputs": [],
   "source": []
  }
 ],
 "metadata": {
  "kernelspec": {
   "display_name": "Python 2",
   "language": "python",
   "name": "python2"
  },
  "language_info": {
   "codemirror_mode": {
    "name": "ipython",
    "version": 2
   },
   "file_extension": ".py",
   "mimetype": "text/x-python",
   "name": "python",
   "nbconvert_exporter": "python",
   "pygments_lexer": "ipython2",
   "version": "2.7.10"
  }
 },
 "nbformat": 4,
 "nbformat_minor": 2
}
