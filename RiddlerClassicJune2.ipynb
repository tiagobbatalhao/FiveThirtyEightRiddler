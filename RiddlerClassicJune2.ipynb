{
 "cells": [
  {
   "cell_type": "markdown",
   "metadata": {},
   "source": [
    "# Riddler Classic on June 2, 2017"
   ]
  },
  {
   "cell_type": "markdown",
   "metadata": {},
   "source": [
    "## Question\n",
    "\n",
    "You just took your plush seat in the elegantly appointed salesroom of a posh auction house uptown. You’d like to buy a fancy painting to decorate your new mansion, and it just so happens the house is auctioning off exactly one fancy painting. Across the aisle from you, however, is another bidder. Turns out it’s your arch nemesis, who is also interested in the painting for her new mansion. You nearly spit out your Champagne at the sight of this competition. It’s a tough life, but you soldier on.\n",
    "\n",
    "Each of you two puts a different dollar valuation on the painting, based on your haute tastes and assessment, drawn uniformly randomly between \\$0 and \\$100,000,000. (That these are the rules of the game is common knowledge to you both.) You know precisely how much you value the painting but not how much the other bidder does.\n",
    "\n",
    "You submit a sealed envelope containing your bid to the auctioneer, as does your rival. Whoever submits the higher bid wins, and must pay whatever that bid was. Suppose your specific valuation of the fancy painting is $X. How much should you bid? (In other words: What’s the Nash equilibrium of this auction?)\n",
    "\n",
    "Extra credit: What happens if other rival collectors with other new mansions also showed up? That is, what if there were N bidders in the room? What should you bid then?\n",
    "\n",
    "Extra extra credit: What if all the N art lovers had to pay whatever amount they wrote down and sealed in the envelope, regardless of whether or not they won the painting? How much does everyone bid in this so-called all-pay auction?"
   ]
  },
  {
   "cell_type": "markdown",
   "metadata": {},
   "source": [
    "## Answer, short form\n",
    "The best strategy is to bid half of your valuation (in other words, bid $\\$(X/2)$). In case you win, you get half of the valuation as payoff. If you lose, the payoff is zero. The chance of winning is $X/M$ (with $M$ being the maximum value $M = \\$ 100,000,000$) so that the average payoff is $X^2\n"
   ]
  },
  {
   "cell_type": "markdown",
   "metadata": {},
   "source": [
    "## Explanation\n",
    "In this game, $x_0$ and $x_1$ are the valuations that each player has on the painting, and $b_0$ and $b_!$ are the bids they submit. When $b_0 > b_1$, the first player wins the auction and gets a payoff equal to $x_0 - b_0$ (he gets the painting valued at $x_0$ but must pay $b_0$). If $b_0 < b_1$, the first player payoff is zero. This is not a zero-sum game.\n",
    "\n",
    "We can consider at first a general mixed strategy, where the bidding value would be taken from a conditional probability distribution $P\\left(b\\mid x\\right)$, where $b$ is the bid and $x$ is the valuation. Because both players are rational, they would play with the same strategy. From the point of view of the first player, all he cares about is how much the other player will bid, not on how much he/she values the painting. Therefore, he can consider the probability distribution on bids by the opponent,\n",
    "$$ P_{\\text{opp}}\\left(b_1\\right) = \\frac{1}{M} \\int_0^M dx_1 P\\left(b_1\\mid x_1\\right) $$\n",
    "where it was considered that $P\\left(y_1\\right)$ is uniformly distributed in the interval between 0 and $M = \\$ 100,000,000$.\n",
    "\n",
    "Combining this with the description of the payoff above, the average payoff to the first player ($C_0$), as a function of its valuation is\n",
    "$$ C_0\\left(b_0\\right) = \\int db_1 P_{\\text{opp}}\\left(b_1\\right) \\int_{b_1}^{\\infty} db_0 P\\left(b_0 \\mid x_0 \\right) \\left(x_0 - b_0\\right) $$\n",
    "\n",
    "For a fixed valuation $b_0$, the first player must maximize this expression manipulating the strategy function $P\\left(b_0 \\mid x_0 \\right)$. To do this, it is convenient to write\n",
    "$$ C_0\\left(b_0\\right) = \\int_{0}^{\\infty} db_0 P\\left(b_0 \\mid x_0 \\right)  \\left(x_0 - b_0\\right) \\int_{0}^{b_0} db_1 P_{\\text{opp}}\\left(b_1\\right)  $$\n",
    "\n",
    "This problem has the form of maximimizing $\\int_0^{\\infty} db p\\left(b\\right)f\\left(b\\right)$, where $p\\left(b\\right)$ is a probability distribution. This is achieved by concentrating the entirety of the probability distribution around the point where $f\\left(b\\right)$ is greatest. The strategy is a deterministic one. We must now solve the problem of\n",
    "$$ \\text{Find $b\\left(x\\right)$ such that} \\left(x - b\\right) \\int_{0}^{b} db_1 P_{\\text{opp}}\\left(b_1\\right) \\text{ is maximized} $$\n",
    "\n",
    "The function $P_{\\text{opp}}\\left(b_1\\right)$ itself depends on this strategy, because the second player is also employing it. It can be deduced from $b\\left(x\\right)$ by the relation\n",
    "$$ P_{\\text{opp}}\\left(b_1\\right) = \\left| \\frac{db}{dx} \\right|^{-1} $$\n",
    "The technical explanation from this formula comes from properties of the delta function. The more intuitive explanation is that, in regions where $b$ changes rapidly with $x$, the probability of finding $b$ in that region is smaller. It's also reasonable to suppose that $b\\left(x\\right)$ is an increasing function, so that the problem we must solve has the form\n",
    "$$ \\text{Find $b\\left(x\\right)$ such that} \\left(x - b\\right) \\int_{0}^{b} db_1 \\left( \\frac{db}{dx} \\right)^{-1} \\text{ is maximized} $$\n",
    "Insted of considering $b\\left(x\\right)$, we can consider the inverse function $x\\left(b\\right)$, so that\n",
    "$$ \\left(x\\left(b\\right) - b\\right) \\frac{dx}{db} - x\\left(b\\right) =0 $$\n",
    "This is a non-linear equation, but by inspection it may be seen that it has a solution in the form $x\\left(b\\right) = mb$, and that\n",
    "$$ \\left(m - 1\\right) m - m =0 $$\n",
    "The non-trivial solution is $m=2$, which means that the valuation is twice as much as the bid.\n"
   ]
  },
  {
   "cell_type": "code",
   "execution_count": null,
   "metadata": {
    "collapsed": true
   },
   "outputs": [],
   "source": []
  }
 ],
 "metadata": {
  "kernelspec": {
   "display_name": "Python 2",
   "language": "python",
   "name": "python2"
  },
  "language_info": {
   "codemirror_mode": {
    "name": "ipython",
    "version": 2
   },
   "file_extension": ".py",
   "mimetype": "text/x-python",
   "name": "python",
   "nbconvert_exporter": "python",
   "pygments_lexer": "ipython2",
   "version": "2.7.10"
  }
 },
 "nbformat": 4,
 "nbformat_minor": 2
}
